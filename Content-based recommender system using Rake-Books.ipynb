{
 "cells": [
  {
   "cell_type": "markdown",
   "metadata": {},
   "source": [
    "# Content-based recommender system for books"
   ]
  },
  {
   "cell_type": "code",
   "execution_count": 75,
   "metadata": {},
   "outputs": [
    {
     "data": {
      "text/html": [
       "<div>\n",
       "<style scoped>\n",
       "    .dataframe tbody tr th:only-of-type {\n",
       "        vertical-align: middle;\n",
       "    }\n",
       "\n",
       "    .dataframe tbody tr th {\n",
       "        vertical-align: top;\n",
       "    }\n",
       "\n",
       "    .dataframe thead th {\n",
       "        text-align: right;\n",
       "    }\n",
       "</style>\n",
       "<table border=\"1\" class=\"dataframe\">\n",
       "  <thead>\n",
       "    <tr style=\"text-align: right;\">\n",
       "      <th></th>\n",
       "      <th>Title</th>\n",
       "      <th>Genre</th>\n",
       "      <th>Author</th>\n",
       "      <th>Description</th>\n",
       "    </tr>\n",
       "  </thead>\n",
       "  <tbody>\n",
       "    <tr>\n",
       "      <th>0</th>\n",
       "      <td>Her Last Wish</td>\n",
       "      <td>Fiction</td>\n",
       "      <td>Pandey Ajay K.</td>\n",
       "      <td>Her Last Wish is an inspiring tale of love and...</td>\n",
       "    </tr>\n",
       "    <tr>\n",
       "      <th>1</th>\n",
       "      <td>Srinagar Conspiracy</td>\n",
       "      <td>Fiction</td>\n",
       "      <td>Vikram Chandra</td>\n",
       "      <td>Jalauddin and his men are back in India, and w...</td>\n",
       "    </tr>\n",
       "    <tr>\n",
       "      <th>2</th>\n",
       "      <td>The Book of Five Rings</td>\n",
       "      <td>Comics</td>\n",
       "      <td>Sean Michael Wilson</td>\n",
       "      <td>This graphic novel version of The Book of Five...</td>\n",
       "    </tr>\n",
       "    <tr>\n",
       "      <th>3</th>\n",
       "      <td>The Cosmopolitan Novel</td>\n",
       "      <td>Art</td>\n",
       "      <td>Schoene Berthold</td>\n",
       "      <td>While traditionally the novel has been seen as...</td>\n",
       "    </tr>\n",
       "    <tr>\n",
       "      <th>4</th>\n",
       "      <td>Spider-Man and Philosophy</td>\n",
       "      <td>Literary Criticism</td>\n",
       "      <td>Jonathan J. Sanford</td>\n",
       "      <td>Untangle the complex web of philosophical dile...</td>\n",
       "    </tr>\n",
       "  </tbody>\n",
       "</table>\n",
       "</div>"
      ],
      "text/plain": [
       "                       Title               Genre               Author  \\\n",
       "0              Her Last Wish             Fiction       Pandey Ajay K.   \n",
       "1        Srinagar Conspiracy             Fiction       Vikram Chandra   \n",
       "2     The Book of Five Rings              Comics  Sean Michael Wilson   \n",
       "3     The Cosmopolitan Novel                 Art     Schoene Berthold   \n",
       "4  Spider-Man and Philosophy  Literary Criticism  Jonathan J. Sanford   \n",
       "\n",
       "                                         Description  \n",
       "0  Her Last Wish is an inspiring tale of love and...  \n",
       "1  Jalauddin and his men are back in India, and w...  \n",
       "2  This graphic novel version of The Book of Five...  \n",
       "3  While traditionally the novel has been seen as...  \n",
       "4  Untangle the complex web of philosophical dile...  "
      ]
     },
     "execution_count": 75,
     "metadata": {},
     "output_type": "execute_result"
    }
   ],
   "source": [
    "import pandas as pd\n",
    "from rake_nltk import Rake\n",
    "import numpy as np\n",
    "from sklearn.metrics.pairwise import cosine_similarity\n",
    "from sklearn.feature_extraction.text import CountVectorizer\n",
    "\n",
    "pd.set_option('display.max_columns', 100)\n",
    "df = pd.read_csv('Book1.csv',encoding=\"ISO-8859-1\")\n",
    "df.head()"
   ]
  },
  {
   "cell_type": "code",
   "execution_count": 76,
   "metadata": {},
   "outputs": [
    {
     "data": {
      "text/plain": [
       "(6, 4)"
      ]
     },
     "execution_count": 76,
     "metadata": {},
     "output_type": "execute_result"
    }
   ],
   "source": [
    "df.shape"
   ]
  },
  {
   "cell_type": "code",
   "execution_count": 77,
   "metadata": {},
   "outputs": [
    {
     "name": "stdout",
     "output_type": "stream",
     "text": [
      "(6, 4)\n"
     ]
    },
    {
     "data": {
      "text/html": [
       "<div>\n",
       "<style scoped>\n",
       "    .dataframe tbody tr th:only-of-type {\n",
       "        vertical-align: middle;\n",
       "    }\n",
       "\n",
       "    .dataframe tbody tr th {\n",
       "        vertical-align: top;\n",
       "    }\n",
       "\n",
       "    .dataframe thead th {\n",
       "        text-align: right;\n",
       "    }\n",
       "</style>\n",
       "<table border=\"1\" class=\"dataframe\">\n",
       "  <thead>\n",
       "    <tr style=\"text-align: right;\">\n",
       "      <th></th>\n",
       "      <th>Title</th>\n",
       "      <th>Genre</th>\n",
       "      <th>Author</th>\n",
       "      <th>Description</th>\n",
       "    </tr>\n",
       "  </thead>\n",
       "  <tbody>\n",
       "    <tr>\n",
       "      <th>0</th>\n",
       "      <td>Her Last Wish</td>\n",
       "      <td>Fiction</td>\n",
       "      <td>Pandey Ajay K.</td>\n",
       "      <td>Her Last Wish is an inspiring tale of love and...</td>\n",
       "    </tr>\n",
       "    <tr>\n",
       "      <th>1</th>\n",
       "      <td>Srinagar Conspiracy</td>\n",
       "      <td>Fiction</td>\n",
       "      <td>Vikram Chandra</td>\n",
       "      <td>Jalauddin and his men are back in India, and w...</td>\n",
       "    </tr>\n",
       "    <tr>\n",
       "      <th>2</th>\n",
       "      <td>The Book of Five Rings</td>\n",
       "      <td>Comics</td>\n",
       "      <td>Sean Michael Wilson</td>\n",
       "      <td>This graphic novel version of The Book of Five...</td>\n",
       "    </tr>\n",
       "    <tr>\n",
       "      <th>3</th>\n",
       "      <td>The Cosmopolitan Novel</td>\n",
       "      <td>Art</td>\n",
       "      <td>Schoene Berthold</td>\n",
       "      <td>While traditionally the novel has been seen as...</td>\n",
       "    </tr>\n",
       "    <tr>\n",
       "      <th>4</th>\n",
       "      <td>Spider-Man and Philosophy</td>\n",
       "      <td>Literary Criticism</td>\n",
       "      <td>Jonathan J. Sanford</td>\n",
       "      <td>Untangle the complex web of philosophical dile...</td>\n",
       "    </tr>\n",
       "  </tbody>\n",
       "</table>\n",
       "</div>"
      ],
      "text/plain": [
       "                       Title               Genre               Author  \\\n",
       "0              Her Last Wish             Fiction       Pandey Ajay K.   \n",
       "1        Srinagar Conspiracy             Fiction       Vikram Chandra   \n",
       "2     The Book of Five Rings              Comics  Sean Michael Wilson   \n",
       "3     The Cosmopolitan Novel                 Art     Schoene Berthold   \n",
       "4  Spider-Man and Philosophy  Literary Criticism  Jonathan J. Sanford   \n",
       "\n",
       "                                         Description  \n",
       "0  Her Last Wish is an inspiring tale of love and...  \n",
       "1  Jalauddin and his men are back in India, and w...  \n",
       "2  This graphic novel version of The Book of Five...  \n",
       "3  While traditionally the novel has been seen as...  \n",
       "4  Untangle the complex web of philosophical dile...  "
      ]
     },
     "execution_count": 77,
     "metadata": {},
     "output_type": "execute_result"
    }
   ],
   "source": [
    "print(df.shape)\n",
    "df.head()"
   ]
  },
  {
   "cell_type": "code",
   "execution_count": 78,
   "metadata": {},
   "outputs": [],
   "source": [
    "df.set_index('Title',inplace=True)\n",
    "df['Genre'] = df['Genre'].map(lambda x: x.split(' '))\n",
    "df['Author'] = df['Author'].map(lambda x: x.split(' '))"
   ]
  },
  {
   "cell_type": "code",
   "execution_count": 79,
   "metadata": {},
   "outputs": [],
   "source": [
    "for index, row in df.iterrows():\n",
    "    row['Author'] = ''.join(row['Author']).lower()\n",
    "    row['Genre'] = ''.join(row['Genre']).lower()"
   ]
  },
  {
   "cell_type": "code",
   "execution_count": 80,
   "metadata": {},
   "outputs": [
    {
     "data": {
      "text/html": [
       "<div>\n",
       "<style scoped>\n",
       "    .dataframe tbody tr th:only-of-type {\n",
       "        vertical-align: middle;\n",
       "    }\n",
       "\n",
       "    .dataframe tbody tr th {\n",
       "        vertical-align: top;\n",
       "    }\n",
       "\n",
       "    .dataframe thead th {\n",
       "        text-align: right;\n",
       "    }\n",
       "</style>\n",
       "<table border=\"1\" class=\"dataframe\">\n",
       "  <thead>\n",
       "    <tr style=\"text-align: right;\">\n",
       "      <th></th>\n",
       "      <th>Genre</th>\n",
       "      <th>Author</th>\n",
       "      <th>Description</th>\n",
       "    </tr>\n",
       "    <tr>\n",
       "      <th>Title</th>\n",
       "      <th></th>\n",
       "      <th></th>\n",
       "      <th></th>\n",
       "    </tr>\n",
       "  </thead>\n",
       "  <tbody>\n",
       "    <tr>\n",
       "      <th>Her Last Wish</th>\n",
       "      <td>fiction</td>\n",
       "      <td>pandeyajayk.</td>\n",
       "      <td>Her Last Wish is an inspiring tale of love and...</td>\n",
       "    </tr>\n",
       "    <tr>\n",
       "      <th>Srinagar Conspiracy</th>\n",
       "      <td>fiction</td>\n",
       "      <td>vikramchandra</td>\n",
       "      <td>Jalauddin and his men are back in India, and w...</td>\n",
       "    </tr>\n",
       "    <tr>\n",
       "      <th>The Book of Five Rings</th>\n",
       "      <td>comics</td>\n",
       "      <td>seanmichaelwilson</td>\n",
       "      <td>This graphic novel version of The Book of Five...</td>\n",
       "    </tr>\n",
       "    <tr>\n",
       "      <th>The Cosmopolitan Novel</th>\n",
       "      <td>art</td>\n",
       "      <td>schoeneberthold</td>\n",
       "      <td>While traditionally the novel has been seen as...</td>\n",
       "    </tr>\n",
       "    <tr>\n",
       "      <th>Spider-Man and Philosophy</th>\n",
       "      <td>literarycriticism</td>\n",
       "      <td>jonathanj.sanford</td>\n",
       "      <td>Untangle the complex web of philosophical dile...</td>\n",
       "    </tr>\n",
       "  </tbody>\n",
       "</table>\n",
       "</div>"
      ],
      "text/plain": [
       "                                       Genre             Author  \\\n",
       "Title                                                             \n",
       "Her Last Wish                        fiction       pandeyajayk.   \n",
       "Srinagar Conspiracy                  fiction      vikramchandra   \n",
       "The Book of Five Rings                comics  seanmichaelwilson   \n",
       "The Cosmopolitan Novel                   art    schoeneberthold   \n",
       "Spider-Man and Philosophy  literarycriticism  jonathanj.sanford   \n",
       "\n",
       "                                                                 Description  \n",
       "Title                                                                         \n",
       "Her Last Wish              Her Last Wish is an inspiring tale of love and...  \n",
       "Srinagar Conspiracy        Jalauddin and his men are back in India, and w...  \n",
       "The Book of Five Rings     This graphic novel version of The Book of Five...  \n",
       "The Cosmopolitan Novel     While traditionally the novel has been seen as...  \n",
       "Spider-Man and Philosophy  Untangle the complex web of philosophical dile...  "
      ]
     },
     "execution_count": 80,
     "metadata": {},
     "output_type": "execute_result"
    }
   ],
   "source": [
    "df.head()"
   ]
  },
  {
   "cell_type": "code",
   "execution_count": 81,
   "metadata": {},
   "outputs": [],
   "source": [
    "# initializing the new column\n",
    "df['Key_words'] = \"\"\n",
    "\n",
    "for index, row in df.iterrows():\n",
    "    plot = row['Description']\n",
    "    \n",
    "    # instantiating Rake, by default is uses english stopwords from NLTK\n",
    "    # and discard all puntuation characters\n",
    "    r = Rake()\n",
    "\n",
    "    # extracting the words by passing the text\n",
    "    r.extract_keywords_from_text(plot)\n",
    "\n",
    "    # getting the dictionary whith key words and their scores\n",
    "    key_words_dict_scores = r.get_word_degrees()\n",
    "    \n",
    "    # assigning the key words to the new column\n",
    "    row['Key_words'] = list(key_words_dict_scores.keys())\n",
    "\n",
    "# dropping the Plot column\n",
    "df.drop(columns = ['Description'], inplace = True)"
   ]
  },
  {
   "cell_type": "code",
   "execution_count": 82,
   "metadata": {},
   "outputs": [
    {
     "data": {
      "text/html": [
       "<div>\n",
       "<style scoped>\n",
       "    .dataframe tbody tr th:only-of-type {\n",
       "        vertical-align: middle;\n",
       "    }\n",
       "\n",
       "    .dataframe tbody tr th {\n",
       "        vertical-align: top;\n",
       "    }\n",
       "\n",
       "    .dataframe thead th {\n",
       "        text-align: right;\n",
       "    }\n",
       "</style>\n",
       "<table border=\"1\" class=\"dataframe\">\n",
       "  <thead>\n",
       "    <tr style=\"text-align: right;\">\n",
       "      <th></th>\n",
       "      <th>Genre</th>\n",
       "      <th>Author</th>\n",
       "      <th>Key_words</th>\n",
       "    </tr>\n",
       "    <tr>\n",
       "      <th>Title</th>\n",
       "      <th></th>\n",
       "      <th></th>\n",
       "      <th></th>\n",
       "    </tr>\n",
       "  </thead>\n",
       "  <tbody>\n",
       "    <tr>\n",
       "      <th>Her Last Wish</th>\n",
       "      <td>fiction</td>\n",
       "      <td>pandeyajayk.</td>\n",
       "      <td>[girlfriend, aastha, enters, upon, father, als...</td>\n",
       "    </tr>\n",
       "    <tr>\n",
       "      <th>Srinagar Conspiracy</th>\n",
       "      <td>fiction</td>\n",
       "      <td>vikramchandra</td>\n",
       "      <td>[bring, india, barely, three, months, visit, p...</td>\n",
       "    </tr>\n",
       "    <tr>\n",
       "      <th>The Book of Five Rings</th>\n",
       "      <td>comics</td>\n",
       "      <td>seanmichaelwilson</td>\n",
       "      <td>[five, rings, musashi, iconic, book, famed, se...</td>\n",
       "    </tr>\n",
       "    <tr>\n",
       "      <th>The Cosmopolitan Novel</th>\n",
       "      <td>art</td>\n",
       "      <td>schoeneberthold</td>\n",
       "      <td>[community, creative, world, new, sub, novel, ...</td>\n",
       "    </tr>\n",
       "    <tr>\n",
       "      <th>Spider-Man and Philosophy</th>\n",
       "      <td>literarycriticism</td>\n",
       "      <td>jonathanj.sanford</td>\n",
       "      <td>[blame, man, beloved, superhero, world, everyo...</td>\n",
       "    </tr>\n",
       "  </tbody>\n",
       "</table>\n",
       "</div>"
      ],
      "text/plain": [
       "                                       Genre             Author  \\\n",
       "Title                                                             \n",
       "Her Last Wish                        fiction       pandeyajayk.   \n",
       "Srinagar Conspiracy                  fiction      vikramchandra   \n",
       "The Book of Five Rings                comics  seanmichaelwilson   \n",
       "The Cosmopolitan Novel                   art    schoeneberthold   \n",
       "Spider-Man and Philosophy  literarycriticism  jonathanj.sanford   \n",
       "\n",
       "                                                                   Key_words  \n",
       "Title                                                                         \n",
       "Her Last Wish              [girlfriend, aastha, enters, upon, father, als...  \n",
       "Srinagar Conspiracy        [bring, india, barely, three, months, visit, p...  \n",
       "The Book of Five Rings     [five, rings, musashi, iconic, book, famed, se...  \n",
       "The Cosmopolitan Novel     [community, creative, world, new, sub, novel, ...  \n",
       "Spider-Man and Philosophy  [blame, man, beloved, superhero, world, everyo...  "
      ]
     },
     "execution_count": 82,
     "metadata": {},
     "output_type": "execute_result"
    }
   ],
   "source": [
    "df.head()"
   ]
  },
  {
   "cell_type": "code",
   "execution_count": 83,
   "metadata": {},
   "outputs": [],
   "source": [
    "df['bag_of_words'] = ''\n",
    "columns = df.columns\n",
    "for index, row in df.iterrows():\n",
    "    words = ''\n",
    "    for col in columns:\n",
    "        if col == 'Key_words':\n",
    "            words = words + ' '.join(row[col])+ ' '\n",
    "        else:\n",
    "            words = words + row[col]+ ' '\n",
    "    row['bag_of_words'] = words\n",
    "    \n",
    "df.drop(columns = [col for col in df.columns if col!= 'bag_of_words'], inplace = True)"
   ]
  },
  {
   "cell_type": "code",
   "execution_count": 84,
   "metadata": {},
   "outputs": [
    {
     "data": {
      "text/html": [
       "<div>\n",
       "<style scoped>\n",
       "    .dataframe tbody tr th:only-of-type {\n",
       "        vertical-align: middle;\n",
       "    }\n",
       "\n",
       "    .dataframe tbody tr th {\n",
       "        vertical-align: top;\n",
       "    }\n",
       "\n",
       "    .dataframe thead th {\n",
       "        text-align: right;\n",
       "    }\n",
       "</style>\n",
       "<table border=\"1\" class=\"dataframe\">\n",
       "  <thead>\n",
       "    <tr style=\"text-align: right;\">\n",
       "      <th></th>\n",
       "      <th>bag_of_words</th>\n",
       "    </tr>\n",
       "    <tr>\n",
       "      <th>Title</th>\n",
       "      <th></th>\n",
       "    </tr>\n",
       "  </thead>\n",
       "  <tbody>\n",
       "    <tr>\n",
       "      <th>Her Last Wish</th>\n",
       "      <td>fiction pandeyajayk. girlfriend aastha enters ...</td>\n",
       "    </tr>\n",
       "    <tr>\n",
       "      <th>Srinagar Conspiracy</th>\n",
       "      <td>fiction vikramchandra bring india barely three...</td>\n",
       "    </tr>\n",
       "    <tr>\n",
       "      <th>The Book of Five Rings</th>\n",
       "      <td>comics seanmichaelwilson five rings musashi ic...</td>\n",
       "    </tr>\n",
       "    <tr>\n",
       "      <th>The Cosmopolitan Novel</th>\n",
       "      <td>art schoeneberthold community creative world n...</td>\n",
       "    </tr>\n",
       "    <tr>\n",
       "      <th>Spider-Man and Philosophy</th>\n",
       "      <td>literarycriticism jonathanj.sanford blame man ...</td>\n",
       "    </tr>\n",
       "  </tbody>\n",
       "</table>\n",
       "</div>"
      ],
      "text/plain": [
       "                                                                bag_of_words\n",
       "Title                                                                       \n",
       "Her Last Wish              fiction pandeyajayk. girlfriend aastha enters ...\n",
       "Srinagar Conspiracy        fiction vikramchandra bring india barely three...\n",
       "The Book of Five Rings     comics seanmichaelwilson five rings musashi ic...\n",
       "The Cosmopolitan Novel     art schoeneberthold community creative world n...\n",
       "Spider-Man and Philosophy  literarycriticism jonathanj.sanford blame man ..."
      ]
     },
     "execution_count": 84,
     "metadata": {},
     "output_type": "execute_result"
    }
   ],
   "source": [
    "df.head()"
   ]
  },
  {
   "cell_type": "code",
   "execution_count": 85,
   "metadata": {
    "scrolled": true
   },
   "outputs": [
    {
     "data": {
      "text/plain": [
       "0                Her Last Wish\n",
       "1          Srinagar Conspiracy\n",
       "2       The Book of Five Rings\n",
       "3       The Cosmopolitan Novel\n",
       "4    Spider-Man and Philosophy\n",
       "Name: Title, dtype: object"
      ]
     },
     "execution_count": 85,
     "metadata": {},
     "output_type": "execute_result"
    }
   ],
   "source": [
    "# instantiating and generating the count matrix\n",
    "count = CountVectorizer()\n",
    "count_matrix = count.fit_transform(df['bag_of_words'])\n",
    "\n",
    "# creating a Series for the book titles so they are associated to an ordered numerical\n",
    "# list I will use later to match the indexes\n",
    "indices = pd.Series(df.index)\n",
    "indices[:5]"
   ]
  },
  {
   "cell_type": "code",
   "execution_count": 86,
   "metadata": {},
   "outputs": [],
   "source": [
    "#print(count_matrix)"
   ]
  },
  {
   "cell_type": "code",
   "execution_count": 87,
   "metadata": {},
   "outputs": [
    {
     "data": {
      "text/plain": [
       "array([[ 1.        ,  0.08280787,  0.        ,  0.01354571,  0.04101516,\n",
       "         0.06546537],\n",
       "       [ 0.08280787,  1.        ,  0.02760262,  0.05608456,  0.05660629,\n",
       "         0.01505847],\n",
       "       [ 0.        ,  0.02760262,  1.        ,  0.04063713,  0.06835859,\n",
       "         0.02182179],\n",
       "       [ 0.01354571,  0.05608456,  0.04063713,  1.        ,  0.03703862,\n",
       "         0.02955916],\n",
       "       [ 0.04101516,  0.05660629,  0.06835859,  0.03703862,  1.        ,\n",
       "         0.0447512 ],\n",
       "       [ 0.06546537,  0.01505847,  0.02182179,  0.02955916,  0.0447512 ,\n",
       "         1.        ]])"
      ]
     },
     "execution_count": 87,
     "metadata": {},
     "output_type": "execute_result"
    }
   ],
   "source": [
    "# generating the cosine similarity matrix\n",
    "cosine_sim = cosine_similarity(count_matrix, count_matrix)\n",
    "cosine_sim"
   ]
  },
  {
   "cell_type": "code",
   "execution_count": 88,
   "metadata": {},
   "outputs": [],
   "source": [
    "# function that takes in book title as input and returns the top recommended books\n",
    "def recommendations(title, cosine_sim = cosine_sim):\n",
    "    \n",
    "    recommended_movies = []\n",
    "    \n",
    "    # gettin the index of the book that matches the title\n",
    "    idx = indices[indices == title].index[0]\n",
    "\n",
    "    # creating a Series with the similarity scores in descending order\n",
    "    score_series = pd.Series(cosine_sim[idx]).sort_values(ascending = False)\n",
    "\n",
    "    # getting the indexes of the most similar books\n",
    "    top_indexes = list(score_series.iloc[1:6].index)\n",
    "    \n",
    "    # populating the list with the titles of the best books\n",
    "    for i in top_indexes:\n",
    "        recommended_movies.append(list(df.index)[i])\n",
    "        \n",
    "    return recommended_movies"
   ]
  },
  {
   "cell_type": "code",
   "execution_count": 89,
   "metadata": {
    "scrolled": true
   },
   "outputs": [
    {
     "data": {
      "text/plain": [
       "['Srinagar Conspiracy',\n",
       " 'Be My Perfect Ending',\n",
       " 'Spider-Man and Philosophy',\n",
       " 'The Cosmopolitan Novel',\n",
       " 'The Book of Five Rings']"
      ]
     },
     "execution_count": 89,
     "metadata": {},
     "output_type": "execute_result"
    }
   ],
   "source": [
    "recommendations('Her Last Wish')"
   ]
  },
  {
   "cell_type": "code",
   "execution_count": 90,
   "metadata": {},
   "outputs": [
    {
     "data": {
      "text/html": [
       "<div>\n",
       "<style scoped>\n",
       "    .dataframe tbody tr th:only-of-type {\n",
       "        vertical-align: middle;\n",
       "    }\n",
       "\n",
       "    .dataframe tbody tr th {\n",
       "        vertical-align: top;\n",
       "    }\n",
       "\n",
       "    .dataframe thead th {\n",
       "        text-align: right;\n",
       "    }\n",
       "</style>\n",
       "<table border=\"1\" class=\"dataframe\">\n",
       "  <thead>\n",
       "    <tr style=\"text-align: right;\">\n",
       "      <th></th>\n",
       "      <th>bag_of_words</th>\n",
       "    </tr>\n",
       "    <tr>\n",
       "      <th>Title</th>\n",
       "      <th></th>\n",
       "    </tr>\n",
       "  </thead>\n",
       "  <tbody>\n",
       "    <tr>\n",
       "      <th>Her Last Wish</th>\n",
       "      <td>fiction pandeyajayk. girlfriend aastha enters ...</td>\n",
       "    </tr>\n",
       "    <tr>\n",
       "      <th>Srinagar Conspiracy</th>\n",
       "      <td>fiction vikramchandra bring india barely three...</td>\n",
       "    </tr>\n",
       "    <tr>\n",
       "      <th>The Book of Five Rings</th>\n",
       "      <td>comics seanmichaelwilson five rings musashi ic...</td>\n",
       "    </tr>\n",
       "    <tr>\n",
       "      <th>The Cosmopolitan Novel</th>\n",
       "      <td>art schoeneberthold community creative world n...</td>\n",
       "    </tr>\n",
       "    <tr>\n",
       "      <th>Spider-Man and Philosophy</th>\n",
       "      <td>literarycriticism jonathanj.sanford blame man ...</td>\n",
       "    </tr>\n",
       "    <tr>\n",
       "      <th>Be My Perfect Ending</th>\n",
       "      <td>romance arpitvageria everyone survive ups succ...</td>\n",
       "    </tr>\n",
       "  </tbody>\n",
       "</table>\n",
       "</div>"
      ],
      "text/plain": [
       "                                                                bag_of_words\n",
       "Title                                                                       \n",
       "Her Last Wish              fiction pandeyajayk. girlfriend aastha enters ...\n",
       "Srinagar Conspiracy        fiction vikramchandra bring india barely three...\n",
       "The Book of Five Rings     comics seanmichaelwilson five rings musashi ic...\n",
       "The Cosmopolitan Novel     art schoeneberthold community creative world n...\n",
       "Spider-Man and Philosophy  literarycriticism jonathanj.sanford blame man ...\n",
       "Be My Perfect Ending       romance arpitvageria everyone survive ups succ..."
      ]
     },
     "execution_count": 90,
     "metadata": {},
     "output_type": "execute_result"
    }
   ],
   "source": [
    "df.head(10)"
   ]
  },
  {
   "cell_type": "code",
   "execution_count": null,
   "metadata": {},
   "outputs": [],
   "source": []
  }
 ],
 "metadata": {
  "kernelspec": {
   "display_name": "Python 3",
   "language": "python",
   "name": "python3"
  },
  "language_info": {
   "codemirror_mode": {
    "name": "ipython",
    "version": 3
   },
   "file_extension": ".py",
   "mimetype": "text/x-python",
   "name": "python",
   "nbconvert_exporter": "python",
   "pygments_lexer": "ipython3",
   "version": "3.6.8"
  }
 },
 "nbformat": 4,
 "nbformat_minor": 2
}
